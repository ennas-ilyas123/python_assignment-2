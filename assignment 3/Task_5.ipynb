{
 "cells": [
  {
   "cell_type": "code",
   "execution_count": 11,
   "metadata": {},
   "outputs": [
    {
     "name": "stdout",
     "output_type": "stream",
     "text": [
      "Duplicate Items in the List :  [20, 30, 40, 60]\n"
     ]
    }
   ],
   "source": [
    "ex_list = [10,20,30,20,30,40,50,60,70,40,60]\n",
    "unique = []\n",
    "copy = []\n",
    "for a in ex_list:\n",
    "    if a not in unique:\n",
    "        unique.append(a)\n",
    "    elif a not in copy:\n",
    "        copy.append(a)    \n",
    "print(\"Duplicate Items in the List : \", copy)"
   ]
  }
 ],
 "metadata": {
  "kernelspec": {
   "display_name": "Python 3",
   "language": "python",
   "name": "python3"
  },
  "language_info": {
   "codemirror_mode": {
    "name": "ipython",
    "version": 3
   },
   "file_extension": ".py",
   "mimetype": "text/x-python",
   "name": "python",
   "nbconvert_exporter": "python",
   "pygments_lexer": "ipython3",
   "version": "3.7.4"
  }
 },
 "nbformat": 4,
 "nbformat_minor": 2
}
