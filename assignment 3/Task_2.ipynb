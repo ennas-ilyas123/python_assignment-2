{
 "cells": [
  {
   "cell_type": "code",
   "execution_count": 13,
   "metadata": {},
   "outputs": [
    {
     "name": "stdout",
     "output_type": "stream",
     "text": [
      "No Numeric Value was Found in the First list :  ['Sample', 'List', 'without', 'a', 'Number']\n",
      "A Numeric Value Found in the First list :  ['Sample', 'List', 'with', 'a', 'Number', 8]\n"
     ]
    }
   ],
   "source": [
    "example_list_1 = ['Sample','List','without','a','Number']\n",
    "example_list_2 = ['Sample','List','with','a','Number',8]\n",
    "found = 'false';\n",
    "for value in example_list_1:\n",
    "    if(type(value) == int):\n",
    "        print(\"A Numeric Value Found in the First list : \" , example_list_1)\n",
    "        found = true;\n",
    "        break;\n",
    "if(found == 'false'):\n",
    "    print(\"No Numeric Value was Found in the First list : \" , example_list_1)\n",
    "\n",
    "for value in example_list_2:\n",
    "    if(type(value) == int):\n",
    "        print(\"A Numeric Value Found in the First list : \" , example_list_2)\n",
    "        found = 'true';\n",
    "        break;\n",
    "if(found == 'false'):\n",
    "    print(\"No Numeric Value was Found in the First list : \" , example_list_2)"
   ]
  }
 ],
 "metadata": {
  "kernelspec": {
   "display_name": "Python 3",
   "language": "python",
   "name": "python3"
  },
  "language_info": {
   "codemirror_mode": {
    "name": "ipython",
    "version": 3
   },
   "file_extension": ".py",
   "mimetype": "text/x-python",
   "name": "python",
   "nbconvert_exporter": "python",
   "pygments_lexer": "ipython3",
   "version": "3.7.4"
  }
 },
 "nbformat": 4,
 "nbformat_minor": 2
}
