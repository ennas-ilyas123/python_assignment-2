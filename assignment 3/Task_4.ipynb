{
 "cells": [
  {
   "cell_type": "code",
   "execution_count": 11,
   "metadata": {},
   "outputs": [
    {
     "name": "stdout",
     "output_type": "stream",
     "text": [
      "sum of all integers in the lists is : 30\n"
     ]
    }
   ],
   "source": [
    "example_list = {\n",
    "    'a' : 5,\n",
    "    'b' : 10,\n",
    "    'd' : \"String Value\",\n",
    "    'e' : 15\n",
    "}\n",
    "sums = 0;\n",
    "for c in example_list.values():\n",
    "    if(type(c) == int):\n",
    "        sums = sums + c\n",
    "print(\"sum of all integers in the lists is :\", sums)"
   ]
  }
 ],
 "metadata": {
  "kernelspec": {
   "display_name": "Python 3",
   "language": "python",
   "name": "python3"
  },
  "language_info": {
   "codemirror_mode": {
    "name": "ipython",
    "version": 3
   },
   "file_extension": ".py",
   "mimetype": "text/x-python",
   "name": "python",
   "nbconvert_exporter": "python",
   "pygments_lexer": "ipython3",
   "version": "3.7.4"
  }
 },
 "nbformat": 4,
 "nbformat_minor": 2
}
