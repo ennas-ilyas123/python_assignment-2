{
 "cells": [
  {
   "cell_type": "code",
   "execution_count": 2,
   "metadata": {},
   "outputs": [
    {
     "name": "stdout",
     "output_type": "stream",
     "text": [
      "Enter a key to check its existence : key5\n",
      "Key Does NOT Exist in the Dictionary\n"
     ]
    }
   ],
   "source": [
    "ex_dictionary = {\n",
    "    'key1' : \"lorem Ipsum\",\n",
    "    'key2' : \"lorem Ipsum\",\n",
    "    'key3' : \"lorem Ipsum\",\n",
    "    'key3' : \"lorem Ipsum\"\n",
    "}\n",
    "check_key = input(\"Enter a key to check its existence : \")\n",
    "if check_key in ex_dictionary.keys():\n",
    "    print (\"Key Already Exist in the Dictionary\")\n",
    "else :\n",
    "    print (\"Key Does NOT Exist in the Dictionary\")    "
   ]
  }
 ],
 "metadata": {
  "kernelspec": {
   "display_name": "Python 3",
   "language": "python",
   "name": "python3"
  },
  "language_info": {
   "codemirror_mode": {
    "name": "ipython",
    "version": 3
   },
   "file_extension": ".py",
   "mimetype": "text/x-python",
   "name": "python",
   "nbconvert_exporter": "python",
   "pygments_lexer": "ipython3",
   "version": "3.7.4"
  }
 },
 "nbformat": 4,
 "nbformat_minor": 2
}
