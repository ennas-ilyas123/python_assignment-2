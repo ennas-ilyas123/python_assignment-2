{
 "cells": [
  {
   "cell_type": "code",
   "execution_count": 4,
   "metadata": {},
   "outputs": [
    {
     "name": "stdout",
     "output_type": "stream",
     "text": [
      "Enter new key's name : age\n",
      "Enter new value associated with the key given above : 19\n",
      "{'name': 'Bilal', 'age': '19'}\n"
     ]
    }
   ],
   "source": [
    "example_dictionary  = {\n",
    "    'name' : 'Bilal'\n",
    "}\n",
    "new_key = input(\"Enter new key's name : \")\n",
    "new_value = input(\"Enter new value associated with the key given above : \")\n",
    "example_dictionary[new_key] = new_value\n",
    "print(example_dictionary)"
   ]
  }
 ],
 "metadata": {
  "kernelspec": {
   "display_name": "Python 3",
   "language": "python",
   "name": "python3"
  },
  "language_info": {
   "codemirror_mode": {
    "name": "ipython",
    "version": 3
   },
   "file_extension": ".py",
   "mimetype": "text/x-python",
   "name": "python",
   "nbconvert_exporter": "python",
   "pygments_lexer": "ipython3",
   "version": "3.7.4"
  }
 },
 "nbformat": 4,
 "nbformat_minor": 2
}
