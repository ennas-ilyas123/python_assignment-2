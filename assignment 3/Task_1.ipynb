{
 "cells": [
  {
   "cell_type": "code",
   "execution_count": 16,
   "metadata": {},
   "outputs": [
    {
     "name": "stdout",
     "output_type": "stream",
     "text": [
      "Enter First  Value : 5\n",
      "Enter Second Value : 2\n",
      "Enter an Operator (+,-,*,/,^)^\n",
      "5 to the power 2 = 25\n"
     ]
    }
   ],
   "source": [
    "a = int(input(\"Enter First  Value : \"))\n",
    "b = int(input(\"Enter Second Value : \"))\n",
    "c = input(\"Enter an Operator (+,-,*,/,^)\")\n",
    "if(c == '+'):\n",
    "    print(\"Sum of \"+ str(a) ,'&', str(b) , '=' , str(a+b))\n",
    "elif(c == '-'):\n",
    "    print(\"Difference of \"+ str(a) ,'&', str(b) , '=' , str(a-b))\n",
    "elif(c == '*'):\n",
    "    print(\"Product of \"+ str(a) ,'&', str(b) , '=' , str(a*b))\n",
    "elif(c == '/'):\n",
    "    print(\"Division of \"+ str(a) ,'&', str(b) , '=' , str(a/b))\n",
    "elif(c == '^'):\n",
    "    print(str(a) , \"to the power\", str(b) , '=' , str(a**b))"
   ]
  }
 ],
 "metadata": {
  "kernelspec": {
   "display_name": "Python 3",
   "language": "python",
   "name": "python3"
  },
  "language_info": {
   "codemirror_mode": {
    "name": "ipython",
    "version": 3
   },
   "file_extension": ".py",
   "mimetype": "text/x-python",
   "name": "python",
   "nbconvert_exporter": "python",
   "pygments_lexer": "ipython3",
   "version": "3.7.4"
  }
 },
 "nbformat": 4,
 "nbformat_minor": 2
}
