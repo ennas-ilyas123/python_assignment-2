{
 "cells": [
  {
   "cell_type": "code",
   "execution_count": 1,
   "metadata": {},
   "outputs": [
    {
     "name": "stdout",
     "output_type": "stream",
     "text": [
      "Enter A Number : 88\n",
      "Given Number 88 is an even number\n"
     ]
    }
   ],
   "source": [
    "number = int(input(\"Enter A Number : \"))\n",
    "if(number % 2 == 0):\n",
    "    print(\"Given Number \" + str(number) + \" is an even number\")\n",
    "else:\n",
    "    print(\"Given Number \" + str(number) + \" is a odd number\")"
   ]
  }
 ],
 "metadata": {
  "kernelspec": {
   "display_name": "Python 3",
   "language": "python",
   "name": "python3"
  },
  "language_info": {
   "codemirror_mode": {
    "name": "ipython",
    "version": 3
   },
   "file_extension": ".py",
   "mimetype": "text/x-python",
   "name": "python",
   "nbconvert_exporter": "python",
   "pygments_lexer": "ipython3",
   "version": "3.7.4"
  }
 },
 "nbformat": 4,
 "nbformat_minor": 2
}
