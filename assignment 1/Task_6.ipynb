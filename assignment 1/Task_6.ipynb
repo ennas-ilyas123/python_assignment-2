{
 "cells": [
  {
   "cell_type": "code",
   "execution_count": 2,
   "metadata": {},
   "outputs": [
    {
     "name": "stdout",
     "output_type": "stream",
     "text": [
      "Enter First  Integer : 5\n",
      "Enter Second Integer : 6\n",
      "Sum of the two numbers is : 11\n"
     ]
    }
   ],
   "source": [
    "a = int(input(\"Enter First  Integer : \"))\n",
    "b = int(input(\"Enter Second Integer : \"))\n",
    "print(\"Sum of the two numbers is : \" + str(a+b))"
   ]
  }
 ],
 "metadata": {
  "kernelspec": {
   "display_name": "Python 3",
   "language": "python",
   "name": "python3"
  },
  "language_info": {
   "codemirror_mode": {
    "name": "ipython",
    "version": 3
   },
   "file_extension": ".py",
   "mimetype": "text/x-python",
   "name": "python",
   "nbconvert_exporter": "python",
   "pygments_lexer": "ipython3",
   "version": "3.7.4"
  }
 },
 "nbformat": 4,
 "nbformat_minor": 2
}
