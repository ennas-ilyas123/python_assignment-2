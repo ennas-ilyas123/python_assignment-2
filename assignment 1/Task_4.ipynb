{
 "cells": [
  {
   "cell_type": "code",
   "execution_count": 2,
   "metadata": {},
   "outputs": [
    {
     "name": "stdout",
     "output_type": "stream",
     "text": [
      "Enter the radius of the circle :6\n",
      "Area of the circle is : 113.112\n"
     ]
    }
   ],
   "source": [
    "PI = 3.142\n",
    "r = float(input(\"Enter the radius of the circle :\"))\n",
    "area = PI * r * r\n",
    "print(\"Area of the circle is : \" + str(area))"
   ]
  }
 ],
 "metadata": {
  "kernelspec": {
   "display_name": "Python 3",
   "language": "python",
   "name": "python3"
  },
  "language_info": {
   "codemirror_mode": {
    "name": "ipython",
    "version": 3
   },
   "file_extension": ".py",
   "mimetype": "text/x-python",
   "name": "python",
   "nbconvert_exporter": "python",
   "pygments_lexer": "ipython3",
   "version": "3.7.4"
  }
 },
 "nbformat": 4,
 "nbformat_minor": 2
}
