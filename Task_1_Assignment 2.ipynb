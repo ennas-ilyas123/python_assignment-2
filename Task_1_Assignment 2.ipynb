{
 "cells": [
  {
   "cell_type": "code",
   "execution_count": 2,
   "metadata": {
    "scrolled": true
   },
   "outputs": [
    {
     "name": "stdout",
     "output_type": "stream",
     "text": [
      "Enter Marks in Subject 90\n",
      "Enter Marks in Subject 80\n",
      "Enter Marks in Subject 70\n",
      "Enter Marks in Subject 90\n",
      "Enter Marks in Subject 80\n",
      "------------Transcript------------\n",
      "\t\tMarks\tGrade\n",
      "Subject 1\t90\tA-One\n",
      "Subject 2\t80\tA\n",
      "Subject 3\t70\tB\n",
      "Subject 4\t90\tA-One\n",
      "Subject 5\t80\tA\n",
      "----------------------------------\n",
      "Total Marks : 410\tPercentage : 82.0%\tGrade :A\n"
     ]
    }
   ],
   "source": [
    "Marks = []\n",
    "Total_Marks = 0\n",
    "Total_Percentage = 0\n",
    "for i in range(5):\n",
    "    Marks.append(int(input(\"Enter Marks in Subject \")))\n",
    "    Total_Marks += Marks[i]\n",
    "Total_Percentage = (sum(Marks)/500)*100\n",
    "if(Total_Percentage >= 90 ):\n",
    "    Total_Grade = \"A-One\"\n",
    "elif(Total_Percentage >= 80):\n",
    "    Total_Grade = \"A\"\n",
    "elif(Total_Percentage >= 70):\n",
    "    Total_Grade = \"B\"\n",
    "elif(Total_Percentage >= 60):\n",
    "    Total_Grade = \"C\"\n",
    "elif(Total_Percentage >= 50):\n",
    "    Total_Grade = \"D\"\n",
    "else:\n",
    "    Total_Grade = \"F\"\n",
    "print (\"------------Transcript------------\")\n",
    "print(\"\\t\\t\" + \"Marks\\tGrade\")\n",
    "for i in range(5):\n",
    "        if(Marks[i] >= 90 ):\n",
    "            grade = \"A-One\"\n",
    "        elif(Marks[i] >= 80):\n",
    "            grade = \"A\"\n",
    "        elif(Marks[i] >= 70):\n",
    "            grade = \"B\"\n",
    "        elif(Marks[i] >= 60):\n",
    "            grade = \"C\"\n",
    "        elif(Marks[i] >= 50):\n",
    "            grade = \"D\"\n",
    "        else:\n",
    "            grade = \"F\"\n",
    "        print(\"Subject \" + str(i+1) + \"\\t\" + str(Marks[i]) + \"\\t\" + grade)\n",
    "print (\"----------------------------------\")\n",
    "print(\"Total Marks : \" + str(sum(Marks)) + \"\\tPercentage : \" + str(Total_Percentage) + \"%\\tGrade :\" + str(Total_Grade))"
   ]
  }
 ],
 "metadata": {
  "kernelspec": {
   "display_name": "Python 3",
   "language": "python",
   "name": "python3"
  },
  "language_info": {
   "codemirror_mode": {
    "name": "ipython",
    "version": 3
   },
   "file_extension": ".py",
   "mimetype": "text/x-python",
   "name": "python",
   "nbconvert_exporter": "python",
   "pygments_lexer": "ipython3",
   "version": "3.7.4"
  }
 },
 "nbformat": 4,
 "nbformat_minor": 2
}
